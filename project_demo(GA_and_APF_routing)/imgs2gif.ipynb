{
 "cells": [
  {
   "cell_type": "code",
   "execution_count": 8,
   "id": "2c18d529",
   "metadata": {},
   "outputs": [
    {
     "name": "stdout",
     "output_type": "stream",
     "text": [
      "[<PIL.JpegImagePlugin.JpegImageFile image mode=RGB size=640x480 at 0x263CE6D6BC8>, <PIL.JpegImagePlugin.JpegImageFile image mode=RGB size=640x480 at 0x263CE6DC7C8>, <PIL.JpegImagePlugin.JpegImageFile image mode=RGB size=640x480 at 0x263CE6DCF08>, <PIL.JpegImagePlugin.JpegImageFile image mode=RGB size=640x480 at 0x263CE6DF308>, <PIL.JpegImagePlugin.JpegImageFile image mode=RGB size=640x480 at 0x263CE6DF508>, <PIL.JpegImagePlugin.JpegImageFile image mode=RGB size=640x480 at 0x263CE6DF748>, <PIL.JpegImagePlugin.JpegImageFile image mode=RGB size=640x480 at 0x263CE6DFA48>, <PIL.JpegImagePlugin.JpegImageFile image mode=RGB size=640x480 at 0x263CE6DFD88>, <PIL.JpegImagePlugin.JpegImageFile image mode=RGB size=640x480 at 0x263CE6E8108>, <PIL.JpegImagePlugin.JpegImageFile image mode=RGB size=640x480 at 0x263CE6E8408>, <PIL.JpegImagePlugin.JpegImageFile image mode=RGB size=640x480 at 0x263CE6E8748>, <PIL.JpegImagePlugin.JpegImageFile image mode=RGB size=640x480 at 0x263CE6E8A88>, <PIL.JpegImagePlugin.JpegImageFile image mode=RGB size=640x480 at 0x263CE6E8DC8>, <PIL.JpegImagePlugin.JpegImageFile image mode=RGB size=640x480 at 0x263CE6EA148>, <PIL.JpegImagePlugin.JpegImageFile image mode=RGB size=640x480 at 0x263CE6EA488>]\n"
     ]
    }
   ],
   "source": [
    "import glob\n",
    "from PIL import Image\n",
    "def make_gif(frame_folder):\n",
    "    frames = [Image.open(image) for image in glob.glob(f\"{frame_folder}/*.jpg\")]\n",
    "    frame_one = frames[0]\n",
    "    frame_one.save(f\"{frame_folder}.gif\", format=\"GIF\", append_images=frames,\n",
    "               save_all=True, duration=100, loop=0)\n",
    "    \n",
    "if __name__ == \"__main__\":\n",
    "    make_gif(\"./evoluation_saved/world_2\")\n"
   ]
  },
  {
   "cell_type": "code",
   "execution_count": null,
   "id": "201c5c1f",
   "metadata": {},
   "outputs": [],
   "source": []
  },
  {
   "cell_type": "code",
   "execution_count": null,
   "id": "6633be6e",
   "metadata": {},
   "outputs": [],
   "source": []
  },
  {
   "cell_type": "code",
   "execution_count": null,
   "id": "2317e7bd",
   "metadata": {},
   "outputs": [],
   "source": []
  }
 ],
 "metadata": {
  "kernelspec": {
   "display_name": "Python 3",
   "language": "python",
   "name": "python3"
  },
  "language_info": {
   "codemirror_mode": {
    "name": "ipython",
    "version": 3
   },
   "file_extension": ".py",
   "mimetype": "text/x-python",
   "name": "python",
   "nbconvert_exporter": "python",
   "pygments_lexer": "ipython3",
   "version": "3.7.11"
  }
 },
 "nbformat": 4,
 "nbformat_minor": 5
}
